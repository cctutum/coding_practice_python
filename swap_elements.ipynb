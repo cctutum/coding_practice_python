{
 "cells": [
  {
   "cell_type": "markdown",
   "id": "9ef5f07c-b4d9-4d14-b2ea-88317a0fce74",
   "metadata": {},
   "source": [
    "## Given a list and provided the positions of the elements, write a program to swap the two elements in the list"
   ]
  },
  {
   "cell_type": "code",
   "execution_count": 1,
   "id": "7b689666-e023-428e-ab56-1d771bda6c83",
   "metadata": {},
   "outputs": [],
   "source": [
    "# 1. Using indexing and tuple unpacking\n",
    "def swap_elements(lst: list, pos1: int, pos2: int) -> list:\n",
    "    lst[pos1], lst[pos2] = lst[pos2], lst[pos1]\n",
    "    return lst"
   ]
  },
  {
   "cell_type": "code",
   "execution_count": 2,
   "id": "e9444f1d-29d0-4c16-9de4-10b8905f6c28",
   "metadata": {},
   "outputs": [],
   "source": [
    "# 2. Using temporary variable\n",
    "def swap_elements_v2(lst: list, pos1: int, pos2: int) -> list:\n",
    "    temp = lst[pos1]\n",
    "    lst[pos1] = lst[pos2]\n",
    "    lst[pos2] = temp\n",
    "    return lst"
   ]
  },
  {
   "cell_type": "code",
   "execution_count": 3,
   "id": "147c9ea9-ce01-4cca-8bfb-52767e643b32",
   "metadata": {},
   "outputs": [
    {
     "name": "stdout",
     "output_type": "stream",
     "text": [
      "[0, 1, 2, 3, 4, 5, 6]\n",
      "[0, 1, 2, 4, 3, 5, 6] \n",
      "\n",
      "[0, 1, 2, 3, 4, 5, 6]\n",
      "[0, 1, 2, 4, 3, 5, 6] \n",
      "\n"
     ]
    }
   ],
   "source": [
    "functions = [swap_elements,\n",
    "            swap_elements_v2]\n",
    "\n",
    "for f in functions:\n",
    "    lst = list(range(7))\n",
    "    print(lst)\n",
    "    print(f(lst, 3, 4), '\\n')"
   ]
  },
  {
   "cell_type": "code",
   "execution_count": null,
   "id": "8e583451-4330-43d8-868e-25dc566301d4",
   "metadata": {},
   "outputs": [],
   "source": []
  }
 ],
 "metadata": {
  "kernelspec": {
   "display_name": "Python 3 (ipykernel)",
   "language": "python",
   "name": "python3"
  },
  "language_info": {
   "codemirror_mode": {
    "name": "ipython",
    "version": 3
   },
   "file_extension": ".py",
   "mimetype": "text/x-python",
   "name": "python",
   "nbconvert_exporter": "python",
   "pygments_lexer": "ipython3",
   "version": "3.11.9"
  }
 },
 "nbformat": 4,
 "nbformat_minor": 5
}
