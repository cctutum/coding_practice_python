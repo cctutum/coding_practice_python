{
 "cells": [
  {
   "cell_type": "code",
   "execution_count": 2,
   "id": "5d2091b4-3e88-4a08-b84f-46f7905a7770",
   "metadata": {},
   "outputs": [
    {
     "name": "stdout",
     "output_type": "stream",
     "text": [
      "my name is tom and my age is 5\n",
      "name='tom' age=5 height=1.44\n",
      "pi is 3.14\n"
     ]
    }
   ],
   "source": [
    "# 1) f-strings (formatted strings)\n",
    "name = 'tom'\n",
    "age = 5\n",
    "s = f'my name is {name} and my age is {age}'\n",
    "print(s)\n",
    "# 'my name is tom and my age is 5'\n",
    "\n",
    "height = 1.44\n",
    "s = f'{name=} {age=} {height=}'\n",
    "print(s)\n",
    "# name='tom' age=5 height=1.44\n",
    "\n",
    "pi = 3.14159265\n",
    "s = f'pi is {pi:.2f}'\n",
    "print(s)\n",
    "# pi is 3.14"
   ]
  },
  {
   "cell_type": "code",
   "execution_count": 4,
   "id": "2cd2c29c-41fa-49db-9f71-f096ec0fcb66",
   "metadata": {},
   "outputs": [
    {
     "name": "stdout",
     "output_type": "stream",
     "text": [
      "name='tom', age=5, gender='male'\n",
      "first='A', second='B', others=['C', 'D', 'E', 'F', 'G']\n"
     ]
    }
   ],
   "source": [
    "# 2) Tuple Unpacking (with & without *)\n",
    "person = ['tom', 5, 'male']\n",
    "name, age, gender = person\n",
    "print(f'{name=}, {age=}, {gender=}')\n",
    "# name='tom', age=5, gender='male'\n",
    "\n",
    "letters = ['A', 'B', 'C', 'D', 'E', 'F', 'G']\n",
    "first, second, *others = letters\n",
    "print(f'{first=}, {second=}, {others=}')\n",
    "# first='A', second='B'\n",
    "# letters = ['C', 'D', 'E', 'F', 'G']"
   ]
  },
  {
   "cell_type": "code",
   "execution_count": 16,
   "id": "645df68e-9961-4eac-9fdf-0ce381d5e757",
   "metadata": {},
   "outputs": [
    {
     "name": "stdout",
     "output_type": "stream",
     "text": [
      "print(x):\n",
      "[{'apple': [1, 2, 3], 'orange': [4, 5, 6]}, {'pear': [7, 8, 9], 'pineapple': [10, 11, 12]}, {'durian': [13, 14, 15], 'banana': [16, 17, 18]}] \n",
      "\n",
      "pprint(x):\n",
      "[{'apple': [1, 2, 3], 'orange': [4, 5, 6]},\n",
      " {'pear': [7, 8, 9], 'pineapple': [10, 11, 12]},\n",
      " {'banana': [16, 17, 18], 'durian': [13, 14, 15]}]\n"
     ]
    }
   ],
   "source": [
    "# 3) ‘pprint’ in Python (print more human-readable)\n",
    "x = [\n",
    "  {'apple': [1,2,3], 'orange':[4,5,6]},\n",
    "  {'pear': [7,8,9], 'pineapple':[10,11,12]},\n",
    "  {'durian':[13,14,15], 'banana':[16,17,18]}\n",
    "]\n",
    "print('print(x):') \n",
    "print(x, '\\n')\n",
    "\n",
    "from pprint import pprint\n",
    "print('pprint(x):') \n",
    "pprint(x)"
   ]
  },
  {
   "cell_type": "code",
   "execution_count": 35,
   "id": "5e37e28a-8651-44f9-acfe-98bf2d68a233",
   "metadata": {},
   "outputs": [
    {
     "name": "stdout",
     "output_type": "stream",
     "text": [
      "list1 = [4, 16], type => list\n",
      "dict1 = {2: 4, 4: 16}, type => dict\n",
      "set1 = {16, 1, 4}, type => set\n"
     ]
    }
   ],
   "source": [
    "# 4) list/dict/set Comprehension\n",
    "list1 = [i**2 for i in range(1, 5) if i**2 % 2 == 0]\n",
    "dict1 = {key:key**2 for key in range(1,5) if key % 2 == 0}\n",
    "set1 = {i**2 for i in range(1, 5) if i**2 % 3 == 1}\n",
    "\n",
    "print(f'{list1 = }, type => {type(list1).__name__}')\n",
    "print(f'{dict1 = }, type => {type(dict1).__name__}')\n",
    "print(f'{set1 = }, type => {type(set1).__name__}')"
   ]
  },
  {
   "cell_type": "code",
   "execution_count": 40,
   "id": "53388b4c-27df-4e1c-a404-a214b544652b",
   "metadata": {},
   "outputs": [
    {
     "name": "stdout",
     "output_type": "stream",
     "text": [
      "a=1, b=2, args=(3, 4, 5)\n",
      "a=1, b=2, kwargs={'c': 3, 'd': 4}\n"
     ]
    }
   ],
   "source": [
    "# 5) *args and **kwargs in Functions\n",
    "def myfunction(a, b, *args):\n",
    "  print(f'{a=}, {b=}, {args=}')\n",
    "myfunction(1, 2, 3, 4, 5)    # a=1 b=2 args=(3, 4, 5)\n",
    "\n",
    "def myfunction(a, b, **kwargs):\n",
    "  print(f'{a=}, {b=}, {kwargs=}')\n",
    "myfunction(1, 2, c=3, d=4)    # a=1 b=2 kwargs={'c': 3, 'd': 4}"
   ]
  },
  {
   "cell_type": "code",
   "execution_count": 45,
   "id": "dbaacf37-1b15-43c8-959f-957c34ae2c8c",
   "metadata": {},
   "outputs": [
    {
     "name": "stdout",
     "output_type": "stream",
     "text": [
      "if-elif-else block: grade1 = 'pass'\n",
      "ternary operator: grade2 = 'pass'\n"
     ]
    }
   ],
   "source": [
    "# 6) the ternary operator\n",
    "''' A common if-elif-else block '''\n",
    "score = 57\n",
    "if score > 90:\n",
    "  grade1 = 'A*'\n",
    "elif score > 50:\n",
    "  grade1 = 'pass'\n",
    "else:\n",
    "  grade1 = 'fail'\n",
    "print(f'if-elif-else block: {grade1 = }')\n",
    "\n",
    "''' Using the ternary operator '''\n",
    "grade2 = 'A*' if score>90 else ('pass' if score>50 else 'fail') # nested ternary operator\n",
    "print(f'ternary operator: {grade2 = }') # grade = 'pass'"
   ]
  },
  {
   "cell_type": "code",
   "execution_count": null,
   "id": "571980cf-8639-4a5e-8573-147adcbe3b5e",
   "metadata": {},
   "outputs": [],
   "source": []
  }
 ],
 "metadata": {
  "kernelspec": {
   "display_name": "Python 3 (ipykernel)",
   "language": "python",
   "name": "python3"
  },
  "language_info": {
   "codemirror_mode": {
    "name": "ipython",
    "version": 3
   },
   "file_extension": ".py",
   "mimetype": "text/x-python",
   "name": "python",
   "nbconvert_exporter": "python",
   "pygments_lexer": "ipython3",
   "version": "3.12.3"
  }
 },
 "nbformat": 4,
 "nbformat_minor": 5
}
