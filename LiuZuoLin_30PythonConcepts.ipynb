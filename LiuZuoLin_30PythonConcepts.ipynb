{
 "cells": [
  {
   "cell_type": "code",
   "execution_count": 2,
   "id": "5d2091b4-3e88-4a08-b84f-46f7905a7770",
   "metadata": {},
   "outputs": [
    {
     "name": "stdout",
     "output_type": "stream",
     "text": [
      "my name is tom and my age is 5\n",
      "name='tom' age=5 height=1.44\n",
      "pi is 3.14\n"
     ]
    }
   ],
   "source": [
    "# 1) f-strings (formatted strings)\n",
    "name = 'tom'\n",
    "age = 5\n",
    "s = f'my name is {name} and my age is {age}'\n",
    "print(s)\n",
    "# 'my name is tom and my age is 5'\n",
    "\n",
    "height = 1.44\n",
    "s = f'{name=} {age=} {height=}'\n",
    "print(s)\n",
    "# name='tom' age=5 height=1.44\n",
    "\n",
    "pi = 3.14159265\n",
    "s = f'pi is {pi:.2f}'\n",
    "print(s)\n",
    "# pi is 3.14"
   ]
  },
  {
   "cell_type": "code",
   "execution_count": 4,
   "id": "2cd2c29c-41fa-49db-9f71-f096ec0fcb66",
   "metadata": {},
   "outputs": [
    {
     "name": "stdout",
     "output_type": "stream",
     "text": [
      "name='tom', age=5, gender='male'\n",
      "first='A', second='B', others=['C', 'D', 'E', 'F', 'G']\n"
     ]
    }
   ],
   "source": [
    "# 2) Tuple Unpacking (with & without *)\n",
    "person = ['tom', 5, 'male']\n",
    "name, age, gender = person\n",
    "print(f'{name=}, {age=}, {gender=}')\n",
    "# name='tom', age=5, gender='male'\n",
    "\n",
    "letters = ['A', 'B', 'C', 'D', 'E', 'F', 'G']\n",
    "first, second, *others = letters\n",
    "print(f'{first=}, {second=}, {others=}')\n",
    "# first='A', second='B'\n",
    "# letters = ['C', 'D', 'E', 'F', 'G']"
   ]
  },
  {
   "cell_type": "code",
   "execution_count": null,
   "id": "645df68e-9961-4eac-9fdf-0ce381d5e757",
   "metadata": {},
   "outputs": [],
   "source": []
  }
 ],
 "metadata": {
  "kernelspec": {
   "display_name": "Python 3 (ipykernel)",
   "language": "python",
   "name": "python3"
  },
  "language_info": {
   "codemirror_mode": {
    "name": "ipython",
    "version": 3
   },
   "file_extension": ".py",
   "mimetype": "text/x-python",
   "name": "python",
   "nbconvert_exporter": "python",
   "pygments_lexer": "ipython3",
   "version": "3.12.3"
  }
 },
 "nbformat": 4,
 "nbformat_minor": 5
}
