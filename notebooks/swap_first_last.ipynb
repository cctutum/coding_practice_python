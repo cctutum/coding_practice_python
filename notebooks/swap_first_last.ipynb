{
 "cells": [
  {
   "cell_type": "markdown",
   "id": "f4152003-0097-4369-bf86-64594a0221d3",
   "metadata": {},
   "source": [
    "## Given a list, write a Python program to swap the first and last element of the list"
   ]
  },
  {
   "cell_type": "code",
   "execution_count": 1,
   "id": "23e16afc-c265-490b-9fac-13531e792d34",
   "metadata": {},
   "outputs": [],
   "source": [
    "# 1. Using temporary variable\n",
    "def swap_first_last(lst):\n",
    "    if len(lst) < 2:\n",
    "        return lst\n",
    "    temp = lst[0]\n",
    "    lst[0] = lst[-1]\n",
    "    lst[-1] = temp\n",
    "    return lst"
   ]
  },
  {
   "cell_type": "code",
   "execution_count": 2,
   "id": "02c0e210-b2d5-4513-8eef-6ed332e11eef",
   "metadata": {},
   "outputs": [],
   "source": [
    "# 2. Using indexing\n",
    "def swap_first_last_v2(lst: list) -> list:\n",
    "    if len(lst) < 2:\n",
    "        return lst\n",
    "    lst[0], lst[-1] = lst[-1], lst[0]\n",
    "    return lst"
   ]
  },
  {
   "cell_type": "code",
   "execution_count": 3,
   "id": "6af78a5a-278e-4eec-be82-b256ad20c6c4",
   "metadata": {},
   "outputs": [],
   "source": [
    "# 3. Using list slicing\n",
    "def swap_first_last_v3(lst: list) -> list:\n",
    "    if len(lst) < 2:\n",
    "        return lst\n",
    "    return lst[-1:] + lst[1:-1] + lst[:1] # [lst[-1]] + lst[1:-1] + [lst[0]]"
   ]
  },
  {
   "cell_type": "code",
   "execution_count": 4,
   "id": "a7064da4-a682-43fa-918d-bf36d83a410f",
   "metadata": {},
   "outputs": [],
   "source": [
    "# 4. Using pop() and insert()\n",
    "def swap_first_last_v4(lst: list) -> list:\n",
    "    if len(lst) < 2:\n",
    "        return lst\n",
    "    last = lst.pop()\n",
    "    first = lst.pop(0)\n",
    "    lst.insert(0, last)\n",
    "    lst.append(first)\n",
    "    return lst"
   ]
  },
  {
   "cell_type": "code",
   "execution_count": 5,
   "id": "82415f6f-c984-4253-940f-e3e8eaf7f8c2",
   "metadata": {},
   "outputs": [],
   "source": [
    "# 5. Using * operator for unpacking\n",
    "def swap_first_last_v5(lst):\n",
    "    if len(lst) < 2:\n",
    "        return lst\n",
    "    first, *middle, last = lst\n",
    "    return [last, *middle, first] "
   ]
  },
  {
   "cell_type": "code",
   "execution_count": 6,
   "id": "c78a5ac5-bee1-4325-8227-9c7e7e4cb84f",
   "metadata": {},
   "outputs": [
    {
     "name": "stdout",
     "output_type": "stream",
     "text": [
      "[0, 1, 2, 3, 4, 5, 6]\n",
      "[6, 1, 2, 3, 4, 5, 0] \n",
      "\n",
      "[0, 1, 2, 3, 4, 5, 6]\n",
      "[6, 1, 2, 3, 4, 5, 0] \n",
      "\n",
      "[0, 1, 2, 3, 4, 5, 6]\n",
      "[6, 1, 2, 3, 4, 5, 0] \n",
      "\n",
      "[0, 1, 2, 3, 4, 5, 6]\n",
      "[6, 1, 2, 3, 4, 5, 0] \n",
      "\n",
      "[0, 1, 2, 3, 4, 5, 6]\n",
      "[6, 1, 2, 3, 4, 5, 0] \n",
      "\n"
     ]
    }
   ],
   "source": [
    "functions = [swap_first_last, \n",
    "             swap_first_last_v2,\n",
    "             swap_first_last_v3,\n",
    "             swap_first_last_v4,\n",
    "             swap_first_last_v5]\n",
    "\n",
    "for f in functions:\n",
    "    lst = list(range(7))\n",
    "    print(lst)\n",
    "    print(f(lst), '\\n')"
   ]
  },
  {
   "cell_type": "code",
   "execution_count": null,
   "id": "f98168e7-6ef2-4be6-a7dc-c86b9a6086e0",
   "metadata": {},
   "outputs": [],
   "source": []
  }
 ],
 "metadata": {
  "kernelspec": {
   "display_name": "Python 3 (ipykernel)",
   "language": "python",
   "name": "python3"
  },
  "language_info": {
   "codemirror_mode": {
    "name": "ipython",
    "version": 3
   },
   "file_extension": ".py",
   "mimetype": "text/x-python",
   "name": "python",
   "nbconvert_exporter": "python",
   "pygments_lexer": "ipython3",
   "version": "3.11.9"
  }
 },
 "nbformat": 4,
 "nbformat_minor": 5
}
