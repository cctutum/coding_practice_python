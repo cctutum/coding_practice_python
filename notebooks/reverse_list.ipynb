{
 "cells": [
  {
   "cell_type": "markdown",
   "id": "dfb04e90-b328-4236-8cea-38c46112b338",
   "metadata": {},
   "source": [
    "## Reversing a List in Python"
   ]
  },
  {
   "cell_type": "code",
   "execution_count": 16,
   "id": "7004b590-b9be-4209-910c-6691fed61b8a",
   "metadata": {},
   "outputs": [],
   "source": [
    "# 1. slicing\n",
    "def reverse_list(lst: list) -> list:\n",
    "    return lst[::-1]"
   ]
  },
  {
   "cell_type": "code",
   "execution_count": 17,
   "id": "85f7a12e-4bd6-4acd-83c3-4cbfdf66d1f2",
   "metadata": {},
   "outputs": [],
   "source": [
    "# 2. reverse() method\n",
    "def reverse_list_v2(lst: list) -> list:\n",
    "    lst.reverse()\n",
    "    return lst"
   ]
  },
  {
   "cell_type": "code",
   "execution_count": 61,
   "id": "d2080412-92b6-4972-aa2c-e6328762a958",
   "metadata": {},
   "outputs": [],
   "source": [
    "# 3. reversed() method\n",
    "def reverse_list_v3(lst: list) -> list:\n",
    "    return [i for i in reversed(lst)]"
   ]
  },
  {
   "cell_type": "code",
   "execution_count": 62,
   "id": "a97ab055-ab82-4bfb-838d-44454d79f3dd",
   "metadata": {},
   "outputs": [],
   "source": [
    "# 3. pop() and insert() or pop() and append()\n",
    "def reverse_list_v4(lst: list) -> list:\n",
    "    new = []\n",
    "    for i in lst[:]: # iterating over a copy of the list\n",
    "        # new.append(lst.pop())\n",
    "        new.insert(len(new), lst.pop())\n",
    "        # or new.insert(0, i) \n",
    "    return new"
   ]
  },
  {
   "cell_type": "code",
   "execution_count": 63,
   "id": "0ae5ab05-b1aa-499d-8f1e-add27201e6f4",
   "metadata": {},
   "outputs": [],
   "source": [
    "# 4. list comprehension and pop()\n",
    "def reverse_list_v5(lst: list) -> list:\n",
    "    return [lst.pop() for _ in lst[:]]"
   ]
  },
  {
   "cell_type": "code",
   "execution_count": 64,
   "id": "89e727ea-2bce-4ce1-b778-4233716a8ee3",
   "metadata": {},
   "outputs": [
    {
     "name": "stdout",
     "output_type": "stream",
     "text": [
      "[4, 5, 6, 7, 8, 9]\n",
      "[9, 8, 7, 6, 5, 4] \n",
      "\n",
      "[4, 5, 6, 7, 8, 9]\n",
      "[9, 8, 7, 6, 5, 4] \n",
      "\n",
      "[4, 5, 6, 7, 8, 9]\n",
      "[9, 8, 7, 6, 5, 4] \n",
      "\n",
      "[4, 5, 6, 7, 8, 9]\n",
      "[9, 8, 7, 6, 5, 4] \n",
      "\n",
      "[4, 5, 6, 7, 8, 9]\n",
      "[9, 8, 7, 6, 5, 4] \n",
      "\n"
     ]
    }
   ],
   "source": [
    "functions = [reverse_list,\n",
    "            reverse_list_v2,\n",
    "            reverse_list_v3,\n",
    "            reverse_list_v4,\n",
    "            reverse_list_v5]\n",
    "\n",
    "for f in functions:\n",
    "    lst = [4, 5, 6, 7, 8, 9]\n",
    "    print(lst)\n",
    "    print(f(lst), '\\n')"
   ]
  },
  {
   "cell_type": "code",
   "execution_count": null,
   "id": "4e7e657f-b8b9-4301-98a2-676d948d0bcc",
   "metadata": {},
   "outputs": [],
   "source": []
  }
 ],
 "metadata": {
  "kernelspec": {
   "display_name": "Python 3 (ipykernel)",
   "language": "python",
   "name": "python3"
  },
  "language_info": {
   "codemirror_mode": {
    "name": "ipython",
    "version": 3
   },
   "file_extension": ".py",
   "mimetype": "text/x-python",
   "name": "python",
   "nbconvert_exporter": "python",
   "pygments_lexer": "ipython3",
   "version": "3.11.9"
  }
 },
 "nbformat": 4,
 "nbformat_minor": 5
}
