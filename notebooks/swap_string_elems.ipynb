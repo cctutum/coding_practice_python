{
 "cells": [
  {
   "cell_type": "markdown",
   "id": "07a8f8da-49a6-4d11-8fce-c687f3ec6183",
   "metadata": {},
   "source": [
    "## Swap elements in String list"
   ]
  },
  {
   "cell_type": "code",
   "execution_count": 1,
   "id": "4fd59400-0511-4527-969c-b67ecedefc16",
   "metadata": {},
   "outputs": [],
   "source": [
    "# 1. Using list operations (Naive approach)\n",
    "# It created a new list and a string\n",
    "def swap_str_elems(str_lst: list, char1: str, char2: str) -> list:\n",
    "    new_str_lst = []\n",
    "    for strg in str_lst:\n",
    "        new_str = ''\n",
    "        for i, char in enumerate(strg):\n",
    "            if char == char1:\n",
    "                new_str += char2\n",
    "            elif char == char2:\n",
    "                new_str += char1\n",
    "            else:\n",
    "                new_str += char\n",
    "        new_str_lst.append(new_str)\n",
    "    return new_str_lst"
   ]
  },
  {
   "cell_type": "code",
   "execution_count": 2,
   "id": "9380f9d9-caf7-457a-804e-bb0e08704217",
   "metadata": {},
   "outputs": [],
   "source": [
    "# 2. Using replace() + list comprehension\n",
    "def swap_str_elems_v2(str_lst: list, char1: str, char2: str) -> list:\n",
    "    new_str_lst = [s.replace(char1,'-').replace(char2,char1).replace('-',char2) for s in str_lst]\n",
    "    return new_str_lst"
   ]
  },
  {
   "cell_type": "code",
   "execution_count": 3,
   "id": "2131e953-59a6-4968-8137-da41bb337cdd",
   "metadata": {},
   "outputs": [],
   "source": [
    "# 3. Using join() + replace() + split() \n",
    "# This is similar to the 2nd method, but no list comprehension\n",
    "def swap_str_elems_v3(str_lst: list, char1: str, char2: str) -> list:\n",
    "    res = \", \".join(str_lst)\n",
    "    res = res.replace(char1, \"-\").replace(char2, char1).replace(\"-\", char2).split(', ')\n",
    "    return res"
   ]
  },
  {
   "cell_type": "code",
   "execution_count": 4,
   "id": "b553aca2-45c6-49e7-a4b4-6c80d533808f",
   "metadata": {},
   "outputs": [],
   "source": [
    "# ', '.join(['Gfg', 'is', 'best', 'for', 'Geeks']).replace(char1, \"-\").replace(char2, char1).replace(\"-\", char2).split(', ')"
   ]
  },
  {
   "cell_type": "code",
   "execution_count": 16,
   "id": "d6a7648d-292e-4479-8599-6091cbe8ccc0",
   "metadata": {},
   "outputs": [],
   "source": [
    "# 4. Using regex and list comprehension\n",
    "import re\n",
    "\n",
    "def swap_str_elems_v4(str_lst: list, char1: str, char2: str) -> list:\n",
    "    return [re.sub('-', char1, re.sub(char1, char2, re.sub(char2, '-', sub))) for sub in str_lst]"
   ]
  },
  {
   "cell_type": "code",
   "execution_count": 17,
   "id": "01293aca-8788-41e4-8ab1-ad0b17b1abae",
   "metadata": {},
   "outputs": [
    {
     "name": "stdout",
     "output_type": "stream",
     "text": [
      "['Gfg', 'is', 'best', 'for', 'Geeks']\n",
      "['efg', 'is', 'bGst', 'for', 'eGGks'] \n",
      "\n",
      "['Gfg', 'is', 'best', 'for', 'Geeks']\n",
      "['efg', 'is', 'bGst', 'for', 'eGGks'] \n",
      "\n",
      "['Gfg', 'is', 'best', 'for', 'Geeks']\n",
      "['efg', 'is', 'bGst', 'for', 'eGGks'] \n",
      "\n",
      "['Gfg', 'is', 'best', 'for', 'Geeks']\n",
      "['efg', 'is', 'bGst', 'for', 'eGGks'] \n",
      "\n"
     ]
    }
   ],
   "source": [
    "functions = [swap_str_elems,\n",
    "            swap_str_elems_v2,\n",
    "            swap_str_elems_v3,\n",
    "            swap_str_elems_v4]\n",
    "\n",
    "for f in functions:\n",
    "    str_lst = ['Gfg', 'is', 'best', 'for', 'Geeks']\n",
    "    char1, char2 = 'G', 'e' # 'G' -> 'e' and 'e' -> 'G' \n",
    "    print(str_lst)\n",
    "    print(f(str_lst, char1, char2), '\\n')"
   ]
  },
  {
   "cell_type": "code",
   "execution_count": null,
   "id": "d44dc5ed-9f08-499c-80da-d8388b108ecc",
   "metadata": {},
   "outputs": [],
   "source": []
  }
 ],
 "metadata": {
  "kernelspec": {
   "display_name": "Python 3 (ipykernel)",
   "language": "python",
   "name": "python3"
  },
  "language_info": {
   "codemirror_mode": {
    "name": "ipython",
    "version": 3
   },
   "file_extension": ".py",
   "mimetype": "text/x-python",
   "name": "python",
   "nbconvert_exporter": "python",
   "pygments_lexer": "ipython3",
   "version": "3.11.9"
  }
 },
 "nbformat": 4,
 "nbformat_minor": 5
}
